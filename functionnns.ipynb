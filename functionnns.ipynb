{
  "cells": [
    {
      "cell_type": "code",
      "execution_count": null,
      "metadata": {
        "id": "C0_LGGBM9niU"
      },
      "outputs": [],
      "source": []
    },
    {
      "cell_type": "markdown",
      "metadata": {
        "id": "rOGGgma39pVv"
      },
      "source": [
        "# **ASSIGNMENT 4**"
      ]
    },
    {
      "cell_type": "markdown",
      "metadata": {
        "id": "9CfFCptV9zBA"
      },
      "source": [
        "## **(FUNCTIONS)**"
      ]
    },
    {
      "cell_type": "markdown",
      "metadata": {
        "id": "wJmfmfYg-EFG"
      },
      "source": [
        "### ***1. What is the difference between a function and a method in Python?***\n",
        "\n",
        "**Function :**\n",
        "\n",
        "1.Defined using def outside of any class.\n",
        "\n",
        "2.Cannot access or modify instance data unless explicitly passed.\n",
        "\n",
        "3.Called by its name alone, e.g., function( ).\n",
        "\n",
        "4.Generally used for general-purpose tasks.\n",
        "\n",
        "**5.Definition Example:**\n",
        "\n",
        "Function: def my_function(): pass"
      ]
    },
    {
      "cell_type": "markdown",
      "metadata": {
        "id": "0dJPTF0gfaCZ"
      },
      "source": [
        "**Method :**\n",
        "\n",
        "1.Defined within a class and associated with instances of that class or the class itself.\n",
        "\n",
        "2.Can access and modify the instance’s attributes via self.\n",
        "\n",
        "3.alled on an instance or class using instance.method(arguments) or Class.method(arguments)\n",
        "\n",
        "4.Available only to instances or the class it is defined in.\n",
        "\n"
      ]
    },
    {
      "cell_type": "code",
      "execution_count": null,
      "metadata": {
        "colab": {
          "base_uri": "https://localhost:8080/"
        },
        "id": "EsRiYxF0gaA9",
        "outputId": "3c9282c0-1217-4092-a9b3-e191b64994ab"
      },
      "outputs": [
        {
          "name": "stdout",
          "output_type": "stream",
          "text": [
            "Hello, abhash !\n"
          ]
        }
      ],
      "source": [
        "#Example\n",
        "\n",
        "#Method\n",
        "class Greeter:\n",
        "    def greet(self, name):\n",
        "        return f\"Hello, {name}!\"\n",
        "greeter = Greeter()\n",
        "message = greeter.greet(\"abhash \")\n",
        "print(message)\n"
      ]
    },
    {
      "cell_type": "code",
      "execution_count": null,
      "metadata": {
        "colab": {
          "base_uri": "https://localhost:8080/"
        },
        "id": "JjHZ0zWohEtN",
        "outputId": "94fe373d-30e5-46d3-a2c6-7a210a39c55c"
      },
      "outputs": [
        {
          "name": "stdout",
          "output_type": "stream",
          "text": [
            "8\n"
          ]
        }
      ],
      "source": [
        "# Function\n",
        "def add(x, y):\n",
        "    return x + y\n",
        "result = add(5, 3)\n",
        "print(result)"
      ]
    },
    {
      "cell_type": "markdown",
      "metadata": {
        "id": "4zhR-OcIiXWe"
      },
      "source": [
        "## **2 .Explain the concept of function arguments and parameters in Python**\n",
        "\n",
        "###**Parameters >>>**\n",
        "Parameters are the variables listed in a function’s definition. They act as placeholders for the values that will be passed to the function. When you define a function, you specify its parameters.\n",
        "\n",
        "###**Arguments >>>**\n",
        "Arguments are the actual values you pass to a function when you call it. These values are assigned to the function’s parameters when the function is executed\n"
      ]
    },
    {
      "cell_type": "code",
      "execution_count": null,
      "metadata": {
        "colab": {
          "base_uri": "https://localhost:8080/"
        },
        "id": "n50u79hbi_Mj",
        "outputId": "4ef033a8-60e2-4c63-a483-71295a072a9e"
      },
      "outputs": [
        {
          "name": "stdout",
          "output_type": "stream",
          "text": [
            "Hello, world!\n"
          ]
        }
      ],
      "source": [
        "def say_hello():\n",
        "    print(\"Hello, world!\")\n",
        "say_hello()\n"
      ]
    },
    {
      "cell_type": "code",
      "execution_count": null,
      "metadata": {
        "colab": {
          "base_uri": "https://localhost:8080/"
        },
        "id": "3TjX0mohk3di",
        "outputId": "1fe708aa-c0f0-4c13-ed19-fcb4616fd75c"
      },
      "outputs": [
        {
          "name": "stdout",
          "output_type": "stream",
          "text": [
            "Hello, my name is abhash and I am 18 years old.\n"
          ]
        }
      ],
      "source": [
        "def greet(name, age):\n",
        "  print(f\"Hello, my name is {name} and I am {age} years old.\")\n",
        "greet(\"abhash\", 18)\n"
      ]
    },
    {
      "cell_type": "code",
      "execution_count": null,
      "metadata": {
        "id": "BTQZgZfUmFCh"
      },
      "outputs": [],
      "source": []
    },
    {
      "cell_type": "markdown",
      "metadata": {
        "id": "gkTfSi1C2hwT"
      },
      "source": [
        "## **What are the different ways to define and call a function in Python?**"
      ]
    },
    {
      "cell_type": "markdown",
      "metadata": {
        "id": "yl8411cq31oE"
      },
      "source": [
        "***Standard Functions:***   Basic building blocks for reusable code.\n",
        "Default Arguments: Allow optional arguments with default values.\n",
        "\n",
        "***Keyword Arguments:*** Improve readability by specifying arguments by name.\n",
        "\n",
        "***Variable-Length Arguments:***  Handle varying numbers of arguments.\n",
        "\n",
        "***Lambda Functions:*** Define simple, anonymous functions.\n",
        "\n",
        "***Nested Functions:*** Functions within other functions for better organization.\n",
        "\n",
        "***Methods in Classes***: Functions within classes that operate on object instances.\n",
        "\n",
        "## ***EXAMPLES>>***"
      ]
    },
    {
      "cell_type": "code",
      "execution_count": null,
      "metadata": {
        "colab": {
          "base_uri": "https://localhost:8080/"
        },
        "id": "Ln1JXKz92uR-",
        "outputId": "24719ba7-15dc-4817-e942-2378917f0f7e"
      },
      "outputs": [
        {
          "name": "stdout",
          "output_type": "stream",
          "text": [
            "16\n",
            "5\n"
          ]
        }
      ],
      "source": [
        "#1. Standard Function\n",
        "def square(number):\n",
        "    return number * number\n",
        "result = square(4)\n",
        "print(result)\n",
        "\n",
        "#5. Lambda Functions\n",
        "add = lambda x, y: x + y\n",
        "print(add(2, 3))  # Output:\n"
      ]
    },
    {
      "cell_type": "markdown",
      "metadata": {
        "id": "A2Pv4Gq98cLu"
      },
      "source": [
        "## **4. What is the purpose of the `return` statement in a Python function**"
      ]
    },
    {
      "cell_type": "markdown",
      "metadata": {
        "id": "VvGc5NZO-Yq8"
      },
      "source": [
        "***Exits the Function:***   It immediately stops the function’s execution and returns control to the caller.\n",
        "\n",
        "***Provides Output:***  It allows the function to send a result or value back to the caller, which can be used later in the program.\n",
        "\n",
        "***Supports Conditional Logic:*** It enables functions to return early based on certain conditions, bypassing the rest of the code.\n",
        "\n",
        "***Facilitates Reusability:*** By returning values, functions can be used to perform calculations or processes and share results, promoting code modularity.\n",
        "\n",
        "***Default Return Value:*** If no return statement is present, or if return is used without a value, the function returns None by default."
      ]
    },
    {
      "cell_type": "code",
      "execution_count": null,
      "metadata": {
        "colab": {
          "base_uri": "https://localhost:8080/"
        },
        "id": "e3m_h0J5-u64",
        "outputId": "8d8ff69f-43a1-4d21-b0a2-ff29fe68d981"
      },
      "outputs": [
        {
          "name": "stdout",
          "output_type": "stream",
          "text": [
            "Hello, Abhash!\n"
          ]
        }
      ],
      "source": [
        "#examples\n",
        "\n",
        "def greet(name):\n",
        "    print(f\"Hello, {name}!\")\n",
        "    return\n",
        "    print(\"This line will not be executed\")\n",
        "\n",
        "greet(\"Abhash\" )\n"
      ]
    },
    {
      "cell_type": "markdown",
      "metadata": {
        "id": "YUI2bG68_SFp"
      },
      "source": [
        "## **5. What are iterators in Python and how do they differ from iterables?**"
      ]
    },
    {
      "cell_type": "markdown",
      "metadata": {
        "id": "TA2Mpmbk_dPv"
      },
      "source": [
        "### **Iterables>>**\n",
        "\n",
        "***Concept:*** An iterable is any object that can produce an iterator. It defines how its elements can be accessed sequentially but does not itself perform the iteration.\n",
        "\n",
        "\n",
        "***Formal Definition:*** An iterable implements the __iter__() method, which returns an iterator object. This method conforms to the iterator protocol by providing a way to start an iteration.\n",
        "\n",
        "***Role:*** The iterable acts as a container or sequence that can be traversed. It describes the structure and the collection of items but does not manage the state of the iteration"
      ]
    },
    {
      "cell_type": "code",
      "execution_count": null,
      "metadata": {
        "id": "jN3dh7UfALmR"
      },
      "outputs": [],
      "source": []
    },
    {
      "cell_type": "markdown",
      "metadata": {
        "id": "ONRfDKT5AMq2"
      },
      "source": [
        "### **Iterators**\n",
        "\n",
        "***Concept***: An iterator is an object that manages the state of the iteration and provides the mechanism for retrieving the next item from the sequence. It is an entity that actually performs the iteration over the elements.\n",
        "\n",
        "***Formal Definition:*** An iterator implements two key methods:\n",
        "\n",
        "__iter__(): Returns the iterator object itself (this is often the iterator itself).\n",
        "\n",
        "__next__(): Returns the next item in the sequence. When there are no more items, it raises the StopIteration exception to signal the end of iteration.\n",
        "Role: The iterator manages the current position in the sequence and provides the next value on demand. It handles the mechanics of the iteration, including keeping track of where you are in the sequence and determining when to stop.\n",
        "\n",
        "\n",
        "### **EXAMPLES**"
      ]
    },
    {
      "cell_type": "code",
      "execution_count": null,
      "metadata": {
        "colab": {
          "base_uri": "https://localhost:8080/"
        },
        "id": "7aXJ1-R1AxG_",
        "outputId": "5ac033de-70f8-456c-b6f2-28e9552162e7"
      },
      "outputs": [
        {
          "name": "stdout",
          "output_type": "stream",
          "text": [
            "1\n",
            "2\n",
            "3\n"
          ]
        }
      ],
      "source": [
        "#1. Iterables\n",
        "# A list is an iterable\n",
        "my_list = [1, 2, 3]\n",
        "for item in (my_list):\n",
        "    print(item)\n",
        "\n"
      ]
    },
    {
      "cell_type": "code",
      "execution_count": null,
      "metadata": {
        "colab": {
          "base_uri": "https://localhost:8080/"
        },
        "id": "Z2PTJ6rSBElb",
        "outputId": "e1c2d07a-22d8-4649-c2a6-32ad6da70f42"
      },
      "outputs": [
        {
          "name": "stdout",
          "output_type": "stream",
          "text": [
            "4\n",
            "6\n",
            "8\n",
            "10\n",
            "12\n"
          ]
        }
      ],
      "source": [
        "class EvenNumbers:\n",
        "    def __init__(self, start):\n",
        "        self.current = start if start % 2 == 0 else start + 1\n",
        "    def __iter__(self):\n",
        "        return self\n",
        "    def __next__(self):\n",
        "        value = self.current\n",
        "        self.current += 2\n",
        "        return value\n",
        "even_numbers = EvenNumbers(3)\n",
        "for _ in range(5):\n",
        "    print(next(even_numbers))"
      ]
    },
    {
      "cell_type": "markdown",
      "metadata": {
        "id": "x4Z1X-X-D0Or"
      },
      "source": [
        "### **6. Explain the concept of generators in Python and how they are defined**"
      ]
    },
    {
      "cell_type": "code",
      "execution_count": null,
      "metadata": {
        "id": "F1mQMyIfEG4G"
      },
      "outputs": [],
      "source": []
    },
    {
      "cell_type": "markdown",
      "metadata": {
        "id": "slfwBqxzEkpD"
      },
      "source": [
        "# CONCEPT>>\n",
        "\n",
        "Generators in Python are a special kind of iterable that provide a more memory-efficient way to handle data. Unlike lists or tuples, which store all their items in memory, generators produce items one at a time as you iterate over them. This makes them particularly useful for working with large datasets or sequences.\n",
        "\n",
        "**Definition**: Generators are functions that return an iterator. They use the yield keyword to produce a series of values over time, instead of computing them all at once and sending them back in a list.\n",
        "\n",
        "**Efficiency:** Generators generate values on-the-fly and only when needed, which saves memory compared to storing all values at once.\n",
        "\n",
        "**Syntax:** A generator function looks like a normal function but uses yield instead of return to yield values one at a time.\n",
        "\n",
        "***EXAMPLES>>>>>***\n",
        "\n"
      ]
    },
    {
      "cell_type": "code",
      "execution_count": null,
      "metadata": {
        "colab": {
          "base_uri": "https://localhost:8080/"
        },
        "id": "-lHMb69bFGlO",
        "outputId": "af5f0551-717d-4a7c-ed37-259e88f517ff"
      },
      "outputs": [
        {
          "name": "stdout",
          "output_type": "stream",
          "text": [
            "2\n",
            "4\n",
            "6\n",
            "8\n",
            "10\n"
          ]
        }
      ],
      "source": [
        "def even_numbers(n):\n",
        "    for i in range(2, n+1, 2):\n",
        "        yield i\n",
        "\n",
        "# Create a generator\n",
        "evens = even_numbers(10)\n",
        "\n",
        "# Use the generator\n",
        "for number in evens:\n",
        "    print(number)\n",
        "\n",
        "\n"
      ]
    },
    {
      "cell_type": "markdown",
      "metadata": {
        "id": "HkXoWtQ6Fq21"
      },
      "source": [
        "### **7. What are the advantages of using generators over regular functions**"
      ]
    },
    {
      "cell_type": "markdown",
      "metadata": {
        "id": "Hm9Y30f8GXbF"
      },
      "source": [
        "**Memory Efficiency:** Generators produce values one at a time and do not store the entire sequence in memory.\n",
        "\n",
        "**Lazy Evaluation:** Values are generated only when needed, which can handle large or infinite sequences efficiently.\n",
        "\n",
        "**Simpler Code:** Generators simplify code for iterating over sequences, avoiding complex data handling.\n",
        "\n",
        "**Reduced Overhead:** Generators avoid the overhead of creating and managing large data structures.\n",
        "\n",
        "**Improved Performance:** They can be more efficient for tasks involving streaming data or large data sets, as they generate values on-the-fly."
      ]
    },
    {
      "cell_type": "markdown",
      "metadata": {
        "id": "z8Ohpey2G3UF"
      },
      "source": [
        "### **8. What is a lambda function in Python and when is it typically used**"
      ]
    },
    {
      "cell_type": "markdown",
      "metadata": {
        "id": "9KSQtSOaHiGa"
      },
      "source": [
        "# Lambda Function in Python\n",
        "A lambda function is a small, anonymous function defined with the lambda keyword. It can take any number of arguments but can only have a single expression.\n",
        "\n",
        "***Use Lambda Functions***\n",
        "\n",
        "**Short and Simple Functions**: Ideal for small functions that are used temporarily or in a single place.\n",
        "\n",
        "**Functional Programming**: Often used with functions like map(), filter(), and sorted() where a short function is needed.\n",
        "\n",
        "**Inline Use**: Useful when you need a quick function without the overhead of defining a full function using def.\n",
        "\n",
        "**No Name Required**: Perfect for cases where the function doesn’t need a name and is used as an argument."
      ]
    },
    {
      "cell_type": "code",
      "execution_count": null,
      "metadata": {
        "colab": {
          "base_uri": "https://localhost:8080/"
        },
        "id": "OaDBngwRINDL",
        "outputId": "18aef706-d4dd-4b6d-caa7-854dd19d0f78"
      },
      "outputs": [
        {
          "name": "stdout",
          "output_type": "stream",
          "text": [
            "[1, 4, 9, 16, 25]\n"
          ]
        }
      ],
      "source": [
        "# List of numbers\n",
        "numbers = [1, 2, 3, 4, 5]\n",
        "\n",
        "# Use lambda to square each number\n",
        "squared = map(lambda x: x ** 2, numbers)\n",
        "\n",
        "# Convert the map object to a list and print\n",
        "print(list(squared))\n"
      ]
    },
    {
      "cell_type": "markdown",
      "metadata": {
        "id": "p7qgmUyBIhpr"
      },
      "source": [
        "## **9. Explain the purpose and usage of the `map()` function in Python.**"
      ]
    },
    {
      "cell_type": "markdown",
      "metadata": {
        "id": "QAQbFB1EJHgK"
      },
      "source": [
        "**Purpose**>>>>\n",
        "\n",
        "***Transform Data:*** map() applies a specified function to each element of an iterable to transform the data.\n",
        "\n",
        "***Functional Programming***: Simplifies code by avoiding explicit loops, promoting a functional programming style\n",
        "\n",
        "## **USES>>>>>**\n",
        "***Apply Transformation:***\n",
        "\n",
        "Example: Convert all items in a list to uppercase.\n",
        "\n",
        "***Perform Calculations:***\n",
        "\n",
        "Example: Square each number in a list.\n",
        "\n",
        "***Format Data:***\n",
        "\n",
        "Example: Format numbers as strings with a specific format.\n",
        "\n",
        "***Combine Elements from Multiple Iterables:***\n",
        "\n",
        "Example: Add corresponding elements from two lists.\n"
      ]
    },
    {
      "cell_type": "markdown",
      "metadata": {
        "id": "Jcuid7wwKoMw"
      },
      "source": []
    },
    {
      "cell_type": "markdown",
      "metadata": {
        "id": "YFxYXFxYLXC5"
      },
      "source": [
        "## **10. What is the difference between `map()`, `reduce()`, and `filter()` functions in Python**"
      ]
    },
    {
      "cell_type": "markdown",
      "metadata": {
        "id": "vzBnSJPiMHPe"
      },
      "source": [
        "## ***Purpose:***\n",
        "\n",
        "**map()**: Designed to transform each element in an iterable by applying a specified function to every item. It produces an iterable of results, maintaining the same number of items as the input.\n",
        "\n",
        "**reduce()**: Intended for accumulating or aggregating elements in an iterable into a single cumulative result by applying a function that takes two arguments. It reduces the iterable to a single value.\n",
        "\n",
        "**filter():** Used to filter elements in an iterable based on a specified condition. It applies a function that returns a boolean value and includes only those items in the resulting iterable for which the function returns True.\n",
        "\n",
        "\n",
        "##**FUNCTONS**\n",
        "\n",
        "**map()**: map(function, iterable, ...) — Takes a function and one or more iterables, applying the function to each item in the iterables.\n",
        "\n",
        "**reduce()**: reduce(function, iterable[, initializer]) — Takes a function and an iterable, applying the function cumulatively to the items of the iterable. An optional initializer can be provided.\n",
        "\n",
        "**filter()**: filter(function, iterable) — Takes a function and an iterable, applying the function to filter out elements from the iterable based on the function’s boolean return value."
      ]
    },
    {
      "cell_type": "markdown",
      "metadata": {
        "id": "UDUlM0iYOB3j"
      },
      "source": [
        "## **Output:**\n",
        "\n",
        "**map():** Produces an iterable of the same length as the input iterable, with each item transformed by the function.\n",
        "\n",
        "**reduce()**: Produces a single cumulative result by combining all items in the iterable according to the function.\n",
        "\n",
        "**filter()**: Produces an iterable containing only those items for which the function returns True, potentially with fewer items than the input iterable.\n"
      ]
    },
    {
      "cell_type": "markdown",
      "metadata": {
        "id": "I8sugF4aOwAy"
      },
      "source": [
        "## **11. Using pen & Paper write the internal mechanism for sum operation using  reduce function on this given**\n",
        "### list:[47,11,42,13];"
      ]
    },
    {
      "cell_type": "code",
      "execution_count": 11,
      "metadata": {
        "id": "8qhICDWXSUJ1",
        "colab": {
          "base_uri": "https://localhost:8080/",
          "height": 73
        },
        "outputId": "c1c81be5-648c-4a10-e9c1-a38abc93861d"
      },
      "outputs": [
        {
          "output_type": "display_data",
          "data": {
            "text/plain": [
              "<IPython.core.display.HTML object>"
            ],
            "text/html": [
              "\n",
              "     <input type=\"file\" id=\"files-2435b692-8e28-45c5-8155-d2ca9c37e077\" name=\"files[]\" multiple disabled\n",
              "        style=\"border:none\" />\n",
              "     <output id=\"result-2435b692-8e28-45c5-8155-d2ca9c37e077\">\n",
              "      Upload widget is only available when the cell has been executed in the\n",
              "      current browser session. Please rerun this cell to enable.\n",
              "      </output>\n",
              "      <script>// Copyright 2017 Google LLC\n",
              "//\n",
              "// Licensed under the Apache License, Version 2.0 (the \"License\");\n",
              "// you may not use this file except in compliance with the License.\n",
              "// You may obtain a copy of the License at\n",
              "//\n",
              "//      http://www.apache.org/licenses/LICENSE-2.0\n",
              "//\n",
              "// Unless required by applicable law or agreed to in writing, software\n",
              "// distributed under the License is distributed on an \"AS IS\" BASIS,\n",
              "// WITHOUT WARRANTIES OR CONDITIONS OF ANY KIND, either express or implied.\n",
              "// See the License for the specific language governing permissions and\n",
              "// limitations under the License.\n",
              "\n",
              "/**\n",
              " * @fileoverview Helpers for google.colab Python module.\n",
              " */\n",
              "(function(scope) {\n",
              "function span(text, styleAttributes = {}) {\n",
              "  const element = document.createElement('span');\n",
              "  element.textContent = text;\n",
              "  for (const key of Object.keys(styleAttributes)) {\n",
              "    element.style[key] = styleAttributes[key];\n",
              "  }\n",
              "  return element;\n",
              "}\n",
              "\n",
              "// Max number of bytes which will be uploaded at a time.\n",
              "const MAX_PAYLOAD_SIZE = 100 * 1024;\n",
              "\n",
              "function _uploadFiles(inputId, outputId) {\n",
              "  const steps = uploadFilesStep(inputId, outputId);\n",
              "  const outputElement = document.getElementById(outputId);\n",
              "  // Cache steps on the outputElement to make it available for the next call\n",
              "  // to uploadFilesContinue from Python.\n",
              "  outputElement.steps = steps;\n",
              "\n",
              "  return _uploadFilesContinue(outputId);\n",
              "}\n",
              "\n",
              "// This is roughly an async generator (not supported in the browser yet),\n",
              "// where there are multiple asynchronous steps and the Python side is going\n",
              "// to poll for completion of each step.\n",
              "// This uses a Promise to block the python side on completion of each step,\n",
              "// then passes the result of the previous step as the input to the next step.\n",
              "function _uploadFilesContinue(outputId) {\n",
              "  const outputElement = document.getElementById(outputId);\n",
              "  const steps = outputElement.steps;\n",
              "\n",
              "  const next = steps.next(outputElement.lastPromiseValue);\n",
              "  return Promise.resolve(next.value.promise).then((value) => {\n",
              "    // Cache the last promise value to make it available to the next\n",
              "    // step of the generator.\n",
              "    outputElement.lastPromiseValue = value;\n",
              "    return next.value.response;\n",
              "  });\n",
              "}\n",
              "\n",
              "/**\n",
              " * Generator function which is called between each async step of the upload\n",
              " * process.\n",
              " * @param {string} inputId Element ID of the input file picker element.\n",
              " * @param {string} outputId Element ID of the output display.\n",
              " * @return {!Iterable<!Object>} Iterable of next steps.\n",
              " */\n",
              "function* uploadFilesStep(inputId, outputId) {\n",
              "  const inputElement = document.getElementById(inputId);\n",
              "  inputElement.disabled = false;\n",
              "\n",
              "  const outputElement = document.getElementById(outputId);\n",
              "  outputElement.innerHTML = '';\n",
              "\n",
              "  const pickedPromise = new Promise((resolve) => {\n",
              "    inputElement.addEventListener('change', (e) => {\n",
              "      resolve(e.target.files);\n",
              "    });\n",
              "  });\n",
              "\n",
              "  const cancel = document.createElement('button');\n",
              "  inputElement.parentElement.appendChild(cancel);\n",
              "  cancel.textContent = 'Cancel upload';\n",
              "  const cancelPromise = new Promise((resolve) => {\n",
              "    cancel.onclick = () => {\n",
              "      resolve(null);\n",
              "    };\n",
              "  });\n",
              "\n",
              "  // Wait for the user to pick the files.\n",
              "  const files = yield {\n",
              "    promise: Promise.race([pickedPromise, cancelPromise]),\n",
              "    response: {\n",
              "      action: 'starting',\n",
              "    }\n",
              "  };\n",
              "\n",
              "  cancel.remove();\n",
              "\n",
              "  // Disable the input element since further picks are not allowed.\n",
              "  inputElement.disabled = true;\n",
              "\n",
              "  if (!files) {\n",
              "    return {\n",
              "      response: {\n",
              "        action: 'complete',\n",
              "      }\n",
              "    };\n",
              "  }\n",
              "\n",
              "  for (const file of files) {\n",
              "    const li = document.createElement('li');\n",
              "    li.append(span(file.name, {fontWeight: 'bold'}));\n",
              "    li.append(span(\n",
              "        `(${file.type || 'n/a'}) - ${file.size} bytes, ` +\n",
              "        `last modified: ${\n",
              "            file.lastModifiedDate ? file.lastModifiedDate.toLocaleDateString() :\n",
              "                                    'n/a'} - `));\n",
              "    const percent = span('0% done');\n",
              "    li.appendChild(percent);\n",
              "\n",
              "    outputElement.appendChild(li);\n",
              "\n",
              "    const fileDataPromise = new Promise((resolve) => {\n",
              "      const reader = new FileReader();\n",
              "      reader.onload = (e) => {\n",
              "        resolve(e.target.result);\n",
              "      };\n",
              "      reader.readAsArrayBuffer(file);\n",
              "    });\n",
              "    // Wait for the data to be ready.\n",
              "    let fileData = yield {\n",
              "      promise: fileDataPromise,\n",
              "      response: {\n",
              "        action: 'continue',\n",
              "      }\n",
              "    };\n",
              "\n",
              "    // Use a chunked sending to avoid message size limits. See b/62115660.\n",
              "    let position = 0;\n",
              "    do {\n",
              "      const length = Math.min(fileData.byteLength - position, MAX_PAYLOAD_SIZE);\n",
              "      const chunk = new Uint8Array(fileData, position, length);\n",
              "      position += length;\n",
              "\n",
              "      const base64 = btoa(String.fromCharCode.apply(null, chunk));\n",
              "      yield {\n",
              "        response: {\n",
              "          action: 'append',\n",
              "          file: file.name,\n",
              "          data: base64,\n",
              "        },\n",
              "      };\n",
              "\n",
              "      let percentDone = fileData.byteLength === 0 ?\n",
              "          100 :\n",
              "          Math.round((position / fileData.byteLength) * 100);\n",
              "      percent.textContent = `${percentDone}% done`;\n",
              "\n",
              "    } while (position < fileData.byteLength);\n",
              "  }\n",
              "\n",
              "  // All done.\n",
              "  yield {\n",
              "    response: {\n",
              "      action: 'complete',\n",
              "    }\n",
              "  };\n",
              "}\n",
              "\n",
              "scope.google = scope.google || {};\n",
              "scope.google.colab = scope.google.colab || {};\n",
              "scope.google.colab._files = {\n",
              "  _uploadFiles,\n",
              "  _uploadFilesContinue,\n",
              "};\n",
              "})(self);\n",
              "</script> "
            ]
          },
          "metadata": {}
        },
        {
          "output_type": "stream",
          "name": "stdout",
          "text": [
            "Saving WhatsApp Image 2024-09-12 at 12.46.23 AM (1).jpeg to WhatsApp Image 2024-09-12 at 12.46.23 AM (1).jpeg\n"
          ]
        }
      ],
      "source": [
        "from google.colab import files\n",
        "import matplotlib.pyplot as plt\n",
        "from PIL import Image\n",
        "import io\n",
        "uploaded = files.upload()\n",
        "\n"
      ]
    },
    {
      "cell_type": "code",
      "execution_count": 12,
      "metadata": {
        "id": "moRYFhGrSUFM",
        "colab": {
          "base_uri": "https://localhost:8080/",
          "height": 406
        },
        "outputId": "3c55c3d4-f6cf-47a5-90c5-e8ebeced94f3"
      },
      "outputs": [
        {
          "output_type": "display_data",
          "data": {
            "text/plain": [
              "<Figure size 640x480 with 1 Axes>"
            ],
            "image/png": "[encoded data removed]"
          },
          "metadata": {}
        }
      ],
      "source": [
        "for filename in uploaded.keys():\n",
        "    image = Image.open(io.BytesIO(uploaded[filename]))\n",
        "    plt.imshow(image)\n",
        "    plt.axis('off')  # Hide axes\n",
        "    plt.show()\n",
        "\n",
        "\n"
      ]
    },
    {
      "cell_type": "code",
      "execution_count": null,
      "metadata": {
        "id": "QzCH19vWO7RU"
      },
      "outputs": [],
      "source": []
    },
    {
      "cell_type": "markdown",
      "metadata": {
        "id": "IRQVsv72Q9nX"
      },
      "source": [
        "## **PRACTICAL QUES..........**"
      ]
    },
    {
      "cell_type": "markdown",
      "metadata": {
        "id": "VBnArvfkVIA2"
      },
      "source": [
        "### **1. Write a Python function that takes a list of numbers as input and returns the sum of all even numbers in the list.**"
      ]
    },
    {
      "cell_type": "code",
      "execution_count": null,
      "metadata": {
        "colab": {
          "base_uri": "https://localhost:8080/"
        },
        "id": "0UGsMgFBWwWk",
        "outputId": "bdf0dcd5-37c9-4096-fe92-ae49c3071af1"
      },
      "outputs": [
        {
          "name": "stdout",
          "output_type": "stream",
          "text": [
            "12\n"
          ]
        }
      ],
      "source": [
        "def sum_even_numbers(numbers):\n",
        "    apple = 0\n",
        "    for num in numbers:\n",
        "        if num % 2 == 0:\n",
        "            apple += num\n",
        "    return apple\n",
        "numbers = [1, 2, 3, 4, 5, 6]\n",
        "result = sum_even_numbers(numbers)\n",
        "print(result)\n"
      ]
    },
    {
      "cell_type": "markdown",
      "metadata": {
        "id": "rjHXMaAgXsnB"
      },
      "source": [
        "### **2. Create a Python function that accepts a string and returns the reverse of that string**"
      ]
    },
    {
      "cell_type": "code",
      "execution_count": null,
      "metadata": {
        "colab": {
          "base_uri": "https://localhost:8080/"
        },
        "id": "YSqfX5zmX3nk",
        "outputId": "9b4bcf5e-d9ca-4410-d11d-bffd8f9675ad"
      },
      "outputs": [
        {
          "name": "stdout",
          "output_type": "stream",
          "text": [
            "olleh\n"
          ]
        }
      ],
      "source": [
        "def reverse_string(sujal):\n",
        "    return sujal[::-1]\n",
        "text = \"hello\"\n",
        "reversed_text = reverse_string(text)\n",
        "print(reversed_text)\n"
      ]
    },
    {
      "cell_type": "markdown",
      "metadata": {
        "id": "dWMf_djOY7zq"
      },
      "source": [
        "## **3. Implement a Python function that takes a list of integers and returns a new list containing the squares of each number.**"
      ]
    },
    {
      "cell_type": "code",
      "execution_count": null,
      "metadata": {
        "colab": {
          "base_uri": "https://localhost:8080/"
        },
        "id": "Qx94an10Y_Cj",
        "outputId": "b4e3a61e-dbce-44b4-b2bf-d09a2bbaee5d"
      },
      "outputs": [
        {
          "name": "stdout",
          "output_type": "stream",
          "text": [
            "[64, 49, 9, 36, 25]\n"
          ]
        }
      ],
      "source": [
        "def square_numbers(numbers):\n",
        "    return [num ** 2 for num in numbers]\n",
        "shoppkeeper= [8, 7, 3, 6, 5]\n",
        "squared_list = square_numbers(shoppkeeper)\n",
        "print(squared_list)"
      ]
    },
    {
      "cell_type": "markdown",
      "metadata": {
        "id": "B-U2bP3CaMbB"
      },
      "source": [
        "## **4. Write a Python function that checks if a given number is prime or not from 1 to 200**"
      ]
    },
    {
      "cell_type": "code",
      "execution_count": null,
      "metadata": {
        "colab": {
          "background_save": true
        },
        "id": "y7CB3Hx1aRFF",
        "outputId": "780ed562-fce6-40ff-8904-e4fc47bdd702"
      },
      "outputs": [
        {
          "name": "stdout",
          "output_type": "stream",
          "text": [
            "1 is prime: False\n",
            "2 is prime: True\n",
            "3 is prime: True\n",
            "4 is prime: False\n",
            "5 is prime: True\n",
            "10 is prime: False\n",
            "17 is prime: True\n",
            "19 is prime: True\n",
            "23 is prime: True\n",
            "200 is prime: False\n",
            "Number must be between 1 and 200.\n"
          ]
        }
      ],
      "source": [
        "def is_prime(num):\n",
        "    # Validate that num is within the range of 1 to 200\n",
        "    if num < 1 or num > 200:\n",
        "        raise ValueError(\"Number must be between 1 and 200.\")\n",
        "\n",
        "    # Check if the number is less than 2\n",
        "    if num < 2:\n",
        "        return False\n",
        "    # Special case for 2, which is the only even prime number\n",
        "    if num == 2:\n",
        "        return True\n",
        "    # Eliminate even numbers greater than 2\n",
        "    if num % 2 == 0:\n",
        "        return False\n",
        "    # Check for factors from 3 up to the square root of num\n",
        "    for i in range(3, int(num ** 0.5) + 1, 2):\n",
        "        if num % i == 0:\n",
        "            return False\n",
        "    return True\n",
        "\n",
        "# Example usage\n",
        "try:\n",
        "    numbers_to_check = [1, 2, 3, 4, 5, 10, 17, 19, 23, 200, 201]\n",
        "\n",
        "    # Check each number and print whether it is prime or not\n",
        "    for number in numbers_to_check:\n",
        "        print(f\"{number} is prime: {is_prime(number)}\")\n",
        "except ValueError as e:\n",
        "    print(e)\n"
      ]
    },
    {
      "cell_type": "markdown",
      "source": [
        "## **5. Create an iterator class in Python that generates the Fibonacci sequence up to a specified number of terms.**\n",
        "\n",
        "\n",
        "\n"
      ],
      "metadata": {
        "id": "S6QF1ICDUsKp"
      }
    },
    {
      "cell_type": "code",
      "source": [
        "class FibonacciIterator:\n",
        "    def __init__(self, num_terms):\n",
        "        self.num_terms = num_terms\n",
        "        self.current_term = 0\n",
        "        self.a, self.b = 0, 1\n",
        "\n",
        "    def __iter__(self):\n",
        "        return self\n",
        "\n",
        "    def __next__(self):\n",
        "        if self.current_term >= self.num_terms:\n",
        "            raise StopIteration\n",
        "\n",
        "        if self.current_term == 0:\n",
        "            self.current_term += 1\n",
        "            return 0\n",
        "        elif self.current_term == 1:\n",
        "            self.current_term += 1\n",
        "            return 1\n",
        "\n",
        "        fib = self.a + self.b\n",
        "        self.a, self.b = self.b, fib\n",
        "        self.current_term += 1\n",
        "        return fib\n",
        "\n",
        "# Example usage:\n",
        "if __name__ == \"__main__\":\n",
        "    num_terms = 7\n",
        "    fib_iterator = FibonacciIterator(num_terms)\n",
        "\n",
        "    print(\"Fibonacci sequence:\")\n",
        "    for number in fib_iterator:\n",
        "        print(number)\n",
        "\n"
      ],
      "metadata": {
        "colab": {
          "base_uri": "https://localhost:8080/"
        },
        "id": "2kCQlsS3ZC1n",
        "outputId": "162919fc-e3f7-4dac-9103-e8f9c976fb19"
      },
      "execution_count": null,
      "outputs": [
        {
          "output_type": "stream",
          "name": "stdout",
          "text": [
            "Fibonacci sequence:\n",
            "0\n",
            "1\n",
            "1\n",
            "2\n",
            "3\n",
            "5\n",
            "8\n"
          ]
        }
      ]
    },
    {
      "cell_type": "markdown",
      "source": [
        "## **6. Write a generator function in Python that yields the powers of 2 up to a given exponent.**"
      ],
      "metadata": {
        "id": "YwNeSWJ6aHUN"
      }
    },
    {
      "cell_type": "code",
      "source": [
        "def powers_of_two(max_exponent):\n",
        "    \"\"\"\n",
        "    Generator function that yields powers of 2 from 2^0 up to 2^max_exponent.\n",
        "\n",
        "    Parameters:\n",
        "    - max_exponent: The maximum exponent value (inclusive) for which to generate powers of 2.\n",
        "\n",
        "    Yields:\n",
        "    - Powers of 2 (2^0, 2^1, ..., 2^max_exponent).\n",
        "    \"\"\"\n",
        "    exponent = 0\n",
        "    while exponent <= max_exponent:\n",
        "        yield 2 ** exponent\n",
        "        exponent += 1\n",
        "\n",
        "# Example usage:\n",
        "if __name__ == \"__main__\":\n",
        "    max_exponent = 10\n",
        "    print(f\"Powers of 2 up to 2^{max_exponent}:\")\n",
        "    for power in powers_of_two(max_exponent):\n",
        "        print(power)\n"
      ],
      "metadata": {
        "colab": {
          "base_uri": "https://localhost:8080/"
        },
        "id": "fWmD0WNpa7J6",
        "outputId": "0c758085-7836-46ba-fdae-05e4b36ad5a1"
      },
      "execution_count": null,
      "outputs": [
        {
          "output_type": "stream",
          "name": "stdout",
          "text": [
            "Powers of 2 up to 2^10:\n",
            "1\n",
            "2\n",
            "4\n",
            "8\n",
            "16\n",
            "32\n",
            "64\n",
            "128\n",
            "256\n",
            "512\n",
            "1024\n"
          ]
        }
      ]
    },
    {
      "cell_type": "markdown",
      "source": [
        "## **8. Use a lambda function in Python to sort a list of tuples based on the second element of each tuple**"
      ],
      "metadata": {
        "id": "cXi4AGENbuM7"
      }
    },
    {
      "cell_type": "code",
      "source": [
        "# List of tuples\n",
        "data = [(1, 'apple'), (2, 'banana'), (3, 'cherry'), (4, 'date')]\n",
        "sorted_data = sorted(data, key=lambda x: x[1])\n",
        "print(\"Sorted list based on the second element:\")\n",
        "for item in sorted_data:\n",
        "    print(item)\n"
      ],
      "metadata": {
        "colab": {
          "base_uri": "https://localhost:8080/"
        },
        "id": "2UUW4ZmHbye0",
        "outputId": "5590134a-fc71-4049-ab7d-a5308ed6ccb1"
      },
      "execution_count": null,
      "outputs": [
        {
          "output_type": "stream",
          "name": "stdout",
          "text": [
            "Sorted list based on the second element:\n",
            "(1, 'apple')\n",
            "(2, 'banana')\n",
            "(3, 'cherry')\n",
            "(4, 'date')\n"
          ]
        }
      ]
    },
    {
      "cell_type": "markdown",
      "source": [
        "##**9. Write a Python program that uses map() to convert a list of temperatures from Celsius to Fahrenheit**\n"
      ],
      "metadata": {
        "id": "VX8f8s-8ckRH"
      }
    },
    {
      "cell_type": "code",
      "source": [
        "def celsius_to_fahrenheit(celsius):\n",
        "    \"\"\"Convert Celsius to Fahrenheit.\"\"\"\n",
        "    return (celsius * 9/5) + 32\n",
        "\n",
        "# List of temperatures in Celsius\n",
        "celsius_temperatures = [0, 10, 20, 30, 40, 100]\n",
        "\n",
        "# Use map() to convert each Celsius temperature to Fahrenheit\n",
        "fahrenheit_temperatures = map(celsius_to_fahrenheit, celsius_temperatures)\n",
        "fahrenheit_temperatures_list = list(fahrenheit_temperatures)\n",
        "print(\"Temperatures in Fahrenheit:\", fahrenheit_temperatures_list)\n"
      ],
      "metadata": {
        "colab": {
          "base_uri": "https://localhost:8080/"
        },
        "id": "jXqeS0frdBCs",
        "outputId": "c02a1789-325d-4f95-8178-f21918ed843c"
      },
      "execution_count": null,
      "outputs": [
        {
          "output_type": "stream",
          "name": "stdout",
          "text": [
            "Temperatures in Fahrenheit: [32.0, 50.0, 68.0, 86.0, 104.0, 212.0]\n"
          ]
        }
      ]
    },
    {
      "cell_type": "markdown",
      "source": [
        "## **10. Create a Python program that uses `filter()` to remove all the vowels from a given string**"
      ],
      "metadata": {
        "id": "boHPPv56duP_"
      }
    },
    {
      "cell_type": "code",
      "source": [
        "def is_not_vowel(char):\n",
        "    \"\"\"Check if the character is not a vowel.\"\"\"\n",
        "    return char.lower() not in 'aeiou'\n",
        "\n",
        "def remove_vowels(input_string):\n",
        "    \"\"\"Remove all vowels from the input string.\"\"\"\n",
        "    # Use filter() to keep only non-vowel characters\n",
        "    filtered_chars = filter(is_not_vowel, input_string)\n",
        "    return ''.join(filtered_chars)\n",
        "if __name__ == \"__main__\":\n",
        "    original_string = \"Hello, World!\"\n",
        "    result_string = remove_vowels(original_string)\n",
        "    print(\"Original string:\", original_string)\n",
        "    print(\"String without vowels:\", result_string)\n"
      ],
      "metadata": {
        "colab": {
          "base_uri": "https://localhost:8080/"
        },
        "id": "GMJNCUO0d9QJ",
        "outputId": "daf27858-f515-4299-ba04-1026ff5073a6"
      },
      "execution_count": null,
      "outputs": [
        {
          "output_type": "stream",
          "name": "stdout",
          "text": [
            "Original string: Hello, World!\n",
            "String without vowels: Hll, Wrld!\n"
          ]
        }
      ]
    },
    {
      "cell_type": "code",
      "source": [],
      "metadata": {
        "id": "DJJefLOieD0y"
      },
      "execution_count": null,
      "outputs": []
    }
  ],
  "metadata": {
    "colab": {
      "provenance": []
    },
    "kernelspec": {
      "display_name": "Python 3",
      "name": "python3"
    },
    "language_info": {
      "name": "python"
    }
  },
  "nbformat": 4,
  "nbformat_minor": 0
}